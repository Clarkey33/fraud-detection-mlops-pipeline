{
 "cells": [
  {
   "cell_type": "markdown",
   "id": "d3c9cfcc",
   "metadata": {},
   "source": [
    "# EDA: Synthetic Fraud Dection Data\n",
    "\n",
    "**Hypothesis**: Fraud attacks will likely happen within a relatively short window, with many micro transactions and possibly targeting a certain demographic. Look for anomalies in spending patterns across different groups (male/female or age groups etc).\n",
    "\n",
    "*Questions*:\n",
    "1. Do fraudulent transactions cluster at specific, unusual times of the day?\n",
    "2. Is there a disproportionate number of fraud victims within a specific gender or age group?\n",
    "3. Do fraudulent transactions overwhelmingly occur in specific spending categories?\n",
    "4. Are fraudulent transactions, on average, smaller than legitimate ones, suggesting fraudsters are testing the waters?"
   ]
  },
  {
   "cell_type": "code",
   "execution_count": 8,
   "id": "fc56cc42",
   "metadata": {},
   "outputs": [],
   "source": [
    "import pandas as pd\n",
    "import os\n",
    "from pathlib import Path\n",
    "\n",
    "pd.set_option('display.max_columns', None)\n",
    "pd.set_option('display.width', 2000)"
   ]
  },
  {
   "cell_type": "code",
   "execution_count": 9,
   "id": "2fa90a17",
   "metadata": {},
   "outputs": [
    {
     "name": "stdout",
     "output_type": "stream",
     "text": [
      "Dataframe succesfully created\n",
      "Dataframe has 1296675 rows and 23 columns.\n"
     ]
    }
   ],
   "source": [
    "notebook_dir = Path.cwd()\n",
    "project_root = notebook_dir.parent\n",
    "\n",
    "training_data = project_root/'data'/'raw'/'fraudTrain.csv'\n",
    "test_data = project_root/'data'/'raw'/'fraudTest.csv'\n",
    "\n",
    "\n",
    "df = pd.read_csv(training_data)\n",
    "print('Dataframe succesfully created')\n",
    "print(f'Dataframe has {df.shape[0]} rows and {df.shape[1]} columns.')"
   ]
  },
  {
   "cell_type": "code",
   "execution_count": 10,
   "id": "9ed569ba",
   "metadata": {},
   "outputs": [
    {
     "name": "stdout",
     "output_type": "stream",
     "text": [
      "<class 'pandas.core.frame.DataFrame'>\n",
      "RangeIndex: 1296675 entries, 0 to 1296674\n",
      "Data columns (total 23 columns):\n",
      " #   Column                 Non-Null Count    Dtype  \n",
      "---  ------                 --------------    -----  \n",
      " 0   Unnamed: 0             1296675 non-null  int64  \n",
      " 1   trans_date_trans_time  1296675 non-null  object \n",
      " 2   cc_num                 1296675 non-null  int64  \n",
      " 3   merchant               1296675 non-null  object \n",
      " 4   category               1296675 non-null  object \n",
      " 5   amt                    1296675 non-null  float64\n",
      " 6   first                  1296675 non-null  object \n",
      " 7   last                   1296675 non-null  object \n",
      " 8   gender                 1296675 non-null  object \n",
      " 9   street                 1296675 non-null  object \n",
      " 10  city                   1296675 non-null  object \n",
      " 11  state                  1296675 non-null  object \n",
      " 12  zip                    1296675 non-null  int64  \n",
      " 13  lat                    1296675 non-null  float64\n",
      " 14  long                   1296675 non-null  float64\n",
      " 15  city_pop               1296675 non-null  int64  \n",
      " 16  job                    1296675 non-null  object \n",
      " 17  dob                    1296675 non-null  object \n",
      " 18  trans_num              1296675 non-null  object \n",
      " 19  unix_time              1296675 non-null  int64  \n",
      " 20  merch_lat              1296675 non-null  float64\n",
      " 21  merch_long             1296675 non-null  float64\n",
      " 22  is_fraud               1296675 non-null  int64  \n",
      "dtypes: float64(5), int64(6), object(12)\n",
      "memory usage: 227.5+ MB\n"
     ]
    }
   ],
   "source": [
    "df.info()"
   ]
  },
  {
   "cell_type": "code",
   "execution_count": null,
   "id": "6123b0ff",
   "metadata": {},
   "outputs": [],
   "source": []
  }
 ],
 "metadata": {
  "kernelspec": {
   "display_name": "fraud-detection-mlops-pipeline",
   "language": "python",
   "name": "python3"
  },
  "language_info": {
   "codemirror_mode": {
    "name": "ipython",
    "version": 3
   },
   "file_extension": ".py",
   "mimetype": "text/x-python",
   "name": "python",
   "nbconvert_exporter": "python",
   "pygments_lexer": "ipython3",
   "version": "3.12.8"
  }
 },
 "nbformat": 4,
 "nbformat_minor": 5
}
